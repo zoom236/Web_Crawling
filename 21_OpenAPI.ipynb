{
 "cells": [
  {
   "cell_type": "markdown",
   "id": "957d9a13",
   "metadata": {},
   "source": [
    "## XML \n",
    "다른 특수한 목적을 갖는 마크업 언어를 만드는데 사용하도록 권장하는 다목적 마크업 언어\n",
    "\n",
    "형식 : \n",
    "\n",
    "    <키1 속성값 = ''>\n",
    "        <키2> 값 </키2>\n",
    "    </키1>\n",
    "    \n",
    "ex :\n",
    "\n",
    "    <score title = \"중간고사\">\n",
    "        <math> 50 </math>\n",
    "        <english> 70 </english>\n",
    "    </score>\n",
    "    \n",
    "\n",
    "### import xml.etree.ElementTree as ET\n",
    "\n",
    "\n",
    "root = ET.fromstring() : xml을 python에서 사용할 수 있게 만들어주는 명령어\n",
    "\n",
    "root.tag\n",
    "\n",
    "root.attrib\n",
    "\n",
    "root.findall()\n",
    "\n",
    "country.find().text\n",
    "\n",
    "country.get()"
   ]
  },
  {
   "cell_type": "code",
   "execution_count": 4,
   "id": "3b4ef735",
   "metadata": {},
   "outputs": [],
   "source": [
    "import requests\n",
    "import xml.etree.ElementTree as ET  "
   ]
  },
  {
   "cell_type": "code",
   "execution_count": 2,
   "id": "a5fe8a52",
   "metadata": {},
   "outputs": [],
   "source": [
    "response = requests.get('http://httpbin.org/xml')"
   ]
  },
  {
   "cell_type": "code",
   "execution_count": 3,
   "id": "f7b1fa61",
   "metadata": {},
   "outputs": [
    {
     "data": {
      "text/plain": [
       "'<?xml version=\\'1.0\\' encoding=\\'us-ascii\\'?>\\n\\n<!--  A SAMPLE set of slides  -->\\n\\n<slideshow \\n    title=\"Sample Slide Show\"\\n    date=\"Date of publication\"\\n    author=\"Yours Truly\"\\n    >\\n\\n    <!-- TITLE SLIDE -->\\n    <slide type=\"all\">\\n      <title>Wake up to WonderWidgets!</title>\\n    </slide>\\n\\n    <!-- OVERVIEW -->\\n    <slide type=\"all\">\\n        <title>Overview</title>\\n        <item>Why <em>WonderWidgets</em> are great</item>\\n        <item/>\\n        <item>Who <em>buys</em> WonderWidgets</item>\\n    </slide>\\n\\n</slideshow>'"
      ]
     },
     "execution_count": 3,
     "metadata": {},
     "output_type": "execute_result"
    }
   ],
   "source": [
    "response.text"
   ]
  },
  {
   "cell_type": "code",
   "execution_count": 5,
   "id": "a8ebd48c",
   "metadata": {},
   "outputs": [],
   "source": [
    "root = ET.fromstring(response.text)"
   ]
  },
  {
   "cell_type": "code",
   "execution_count": 6,
   "id": "eaa78cd9",
   "metadata": {},
   "outputs": [
    {
     "data": {
      "text/plain": [
       "[<Element 'slide' at 0x000002AF09FDEC20>,\n",
       " <Element 'slide' at 0x000002AF09FDED10>]"
      ]
     },
     "execution_count": 6,
     "metadata": {},
     "output_type": "execute_result"
    }
   ],
   "source": [
    "root.findall('slide')"
   ]
  },
  {
   "cell_type": "code",
   "execution_count": 7,
   "id": "711f60bf",
   "metadata": {},
   "outputs": [
    {
     "name": "stdout",
     "output_type": "stream",
     "text": [
      "Wake up to WonderWidgets!\n",
      "Overview\n"
     ]
    }
   ],
   "source": [
    "for item in root.findall('slide'):\n",
    "    print(item.find('title').text) ##silde내 title의 텍스트값 가져오기"
   ]
  },
  {
   "cell_type": "code",
   "execution_count": 8,
   "id": "29cbd668",
   "metadata": {},
   "outputs": [
    {
     "name": "stdout",
     "output_type": "stream",
     "text": [
      "all\n",
      "all\n"
     ]
    }
   ],
   "source": [
    "for item in root.findall('slide'):\n",
    "    print(item.get('type')) ##속성 가져오기"
   ]
  },
  {
   "cell_type": "markdown",
   "id": "93e423f3",
   "metadata": {},
   "source": [
    "## JSON\n",
    "\n",
    "키 - 값 쌍으로 이루어진 데이터 오브젝트를 전달하기 위해 만들어진 텍스트 포맷 \n",
    "\n",
    "형식 :\n",
    "\n",
    "    {\n",
    "        \"과목\" : \"영어\",\n",
    "        \"점수\" : \"70\"\n",
    "     }\n",
    "\n",
    "### import json\n",
    "\n",
    "json.dumps\n",
    "\n",
    "json.dump\n",
    "\n",
    "json.loads :텍스트를 읽는 것 \n",
    "\n",
    "json.load : 파일을 읽는 것 "
   ]
  },
  {
   "cell_type": "code",
   "execution_count": 13,
   "id": "01ac3e01",
   "metadata": {},
   "outputs": [],
   "source": [
    "import json"
   ]
  },
  {
   "cell_type": "code",
   "execution_count": 14,
   "id": "35d01b39",
   "metadata": {},
   "outputs": [],
   "source": [
    "response = requests.get('http://httpbin.org/json')"
   ]
  },
  {
   "cell_type": "code",
   "execution_count": 15,
   "id": "b00fbdc9",
   "metadata": {},
   "outputs": [
    {
     "data": {
      "text/plain": [
       "'{\\n  \"slideshow\": {\\n    \"author\": \"Yours Truly\", \\n    \"date\": \"date of publication\", \\n    \"slides\": [\\n      {\\n        \"title\": \"Wake up to WonderWidgets!\", \\n        \"type\": \"all\"\\n      }, \\n      {\\n        \"items\": [\\n          \"Why <em>WonderWidgets</em> are great\", \\n          \"Who <em>buys</em> WonderWidgets\"\\n        ], \\n        \"title\": \"Overview\", \\n        \"type\": \"all\"\\n      }\\n    ], \\n    \"title\": \"Sample Slide Show\"\\n  }\\n}\\n'"
      ]
     },
     "execution_count": 15,
     "metadata": {},
     "output_type": "execute_result"
    }
   ],
   "source": [
    "response.text"
   ]
  },
  {
   "cell_type": "code",
   "execution_count": 17,
   "id": "8478bc6f",
   "metadata": {},
   "outputs": [
    {
     "data": {
      "text/plain": [
       "{'slideshow': {'author': 'Yours Truly',\n",
       "  'date': 'date of publication',\n",
       "  'slides': [{'title': 'Wake up to WonderWidgets!', 'type': 'all'},\n",
       "   {'items': ['Why <em>WonderWidgets</em> are great',\n",
       "     'Who <em>buys</em> WonderWidgets'],\n",
       "    'title': 'Overview',\n",
       "    'type': 'all'}],\n",
       "  'title': 'Sample Slide Show'}}"
      ]
     },
     "execution_count": 17,
     "metadata": {},
     "output_type": "execute_result"
    }
   ],
   "source": [
    "json.loads(response.text)"
   ]
  },
  {
   "cell_type": "code",
   "execution_count": 18,
   "id": "8ad4921c",
   "metadata": {},
   "outputs": [],
   "source": [
    "data = json.loads(response.text)"
   ]
  },
  {
   "cell_type": "code",
   "execution_count": 19,
   "id": "20b75189",
   "metadata": {},
   "outputs": [
    {
     "data": {
      "text/plain": [
       "'Yours Truly'"
      ]
     },
     "execution_count": 19,
     "metadata": {},
     "output_type": "execute_result"
    }
   ],
   "source": [
    "data['slideshow']['author']"
   ]
  },
  {
   "cell_type": "markdown",
   "id": "b1ab336a",
   "metadata": {},
   "source": [
    "## CSV\n",
    "\n",
    "필드를 쉼표(,)로 구분한 텍스트 데이터 및 텍스트 파일\n",
    "\n",
    "형식 :\n",
    "\n",
    "    이름     수학    과학\n",
    "    zoom,     80,     90\n",
    "    sul,      70,    100\n",
    "    \n",
    "### import csv\n",
    "\n",
    "spamreader = csv.reader(csvfile, delimiter = '',quotechar ='|')\n"
   ]
  },
  {
   "cell_type": "code",
   "execution_count": 24,
   "id": "9544ee80",
   "metadata": {},
   "outputs": [],
   "source": [
    "import csv"
   ]
  },
  {
   "cell_type": "code",
   "execution_count": 34,
   "id": "eca8293a",
   "metadata": {},
   "outputs": [
    {
     "name": "stdout",
     "output_type": "stream",
     "text": [
      "['John', 'Doe', '120 jefferson st.', 'Riverside', ' NJ', ' 08075']\n",
      "John\n",
      "['Jack', 'McGinnis', '220 hobo Av.', 'Phila', ' PA', '09119']\n",
      "Jack\n",
      "['John \"Da Man\"', 'Repici', '120 Jefferson St.', 'Riverside', ' NJ', '08075']\n",
      "John \"Da Man\"\n",
      "['Stephen', 'Tyler', '7452 Terrace \"At the Plaza\" road', 'SomeTown', 'SD', ' 91234']\n",
      "Stephen\n",
      "['', 'Blankman', '', 'SomeTown', ' SD', ' 00298']\n",
      "\n",
      "['Joan \"the bone\", Anne', 'Jet', '9th, at Terrace plc', 'Desert City', 'CO', '00123']\n",
      "Joan \"the bone\", Anne\n"
     ]
    }
   ],
   "source": [
    "with open('test.csv','r',newline =\"\") as f:\n",
    "    datas = csv.reader(f)\n",
    "    \n",
    "    for data in datas:\n",
    "        print(data)\n",
    "        print(data[0])"
   ]
  },
  {
   "cell_type": "code",
   "execution_count": null,
   "id": "c6cd8585",
   "metadata": {},
   "outputs": [],
   "source": []
  }
 ],
 "metadata": {
  "kernelspec": {
   "display_name": "Python 3 (ipykernel)",
   "language": "python",
   "name": "python3"
  },
  "language_info": {
   "codemirror_mode": {
    "name": "ipython",
    "version": 3
   },
   "file_extension": ".py",
   "mimetype": "text/x-python",
   "name": "python",
   "nbconvert_exporter": "python",
   "pygments_lexer": "ipython3",
   "version": "3.9.13"
  }
 },
 "nbformat": 4,
 "nbformat_minor": 5
}
